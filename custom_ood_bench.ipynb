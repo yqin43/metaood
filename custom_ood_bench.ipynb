{
 "cells": [
  {
   "cell_type": "code",
   "execution_count": 23,
   "metadata": {},
   "outputs": [],
   "source": [
    "from torch.utils.data import DataLoader\n",
    "from torchvision.datasets import CIFAR10, MNIST\n",
    "import torchvision.transforms as transforms\n",
    "\n",
    "from pytorch_ood.detector import OpenMax, MCD,ODIN, odin_preprocessing, Mahalanobis, \\\n",
    "    EnergyBased, Entropy, MaxLogit, KLMatching, ViM, odin, MaxSoftmax, KNN\n",
    "from pytorch_ood.model import WideResNet\n",
    "from pytorch_ood.utils import OODMetrics, ToUnknown, fix_random_seed, extract_features\n",
    "\n",
    "import torch\n",
    "from torch.utils.data import Dataset\n",
    "from torchvision import transforms\n",
    "from PIL import Image\n",
    "import os\n",
    "\n",
    "class CustomDataset(Dataset):\n",
    "    def __init__(self, txt_path, img_dir, transform=None, target_transform=None):\n",
    "        \"\"\"\n",
    "        Args:\n",
    "            txt_path (string): Path to the txt file with image paths and labels.\n",
    "            img_dir (string): Directory with all the images.\n",
    "            transform (callable, optional): Optional transform to be applied on a sample.\n",
    "        \"\"\"\n",
    "        self.img_dir = img_dir\n",
    "        self.transform = transform\n",
    "        self.target_transform = target_transform\n",
    "\n",
    "        # Read the txt file\n",
    "        self.img_labels = []\n",
    "        with open(txt_path, 'r') as f:\n",
    "            for line in f:\n",
    "                parts = line.strip().split(' ')\n",
    "                self.img_labels.append((parts[0], int(parts[1])))\n",
    "\n",
    "    def __len__(self):\n",
    "        return len(self.img_labels)\n",
    "\n",
    "    def __getitem__(self, idx):\n",
    "        img_path, label = self.img_labels[idx]\n",
    "        full_img_path = os.path.join(self.img_dir, img_path)\n",
    "        image = Image.open(full_img_path).convert('RGB')  # Convert to RGB in case of grayscale images\n",
    "\n",
    "        if self.transform:\n",
    "            image = self.transform(image)\n",
    "\n",
    "        if self.target_transform:\n",
    "            label = self.target_transform(label)\n",
    "\n",
    "        return image, label"
   ]
  },
  {
   "cell_type": "code",
   "execution_count": 24,
   "metadata": {},
   "outputs": [],
   "source": [
    "fix_random_seed(123)\n",
    "device = \"cuda:0\""
   ]
  },
  {
   "cell_type": "code",
   "execution_count": 25,
   "metadata": {},
   "outputs": [],
   "source": [
    "trans_mnist = transforms.Compose([\n",
    "    transforms.Resize((32, 32)),\n",
    "    transforms.Grayscale(num_output_channels=3),\n",
    "    transforms.ToTensor(),\n",
    "    transforms.Normalize((0.1307,), (0.3081,))\n",
    "])\n",
    "\n",
    "trans_cifar10 = WideResNet.transform_for(\"cifar10-pt\")\n",
    "trans_cifar100 = WideResNet.transform_for(\"cifar100-pt\")\n",
    "\n",
    "img_dir = 'data/images_classic'\n",
    "\n",
    "dataset_train = CustomDataset(txt_path='data/benchmark_imglist/cifar100/train_cifar100.txt', \n",
    "                              img_dir=img_dir, \n",
    "                              transform=trans_cifar100)\n",
    "\n",
    "dataset_in_test = CustomDataset(txt_path='data/benchmark_imglist/cifar100/test_cifar100.txt', \n",
    "                             img_dir=img_dir, \n",
    "                             transform=trans_cifar100)\n",
    "\n",
    "train_loader = DataLoader(dataset_train, batch_size=128, shuffle=True)\n",
    "test_loader_id = DataLoader(dataset_in_test, batch_size=128)"
   ]
  },
  {
   "cell_type": "code",
   "execution_count": 26,
   "metadata": {},
   "outputs": [],
   "source": [
    "# Stage 1: Create DNN pre-trained on CIFAR100\n",
    "model = WideResNet(num_classes=100, pretrained='cifar100-pt')\n",
    "model = model.to(device)"
   ]
  },
  {
   "cell_type": "code",
   "execution_count": 27,
   "metadata": {},
   "outputs": [],
   "source": [
    "# import torch.optim as optim\n",
    "\n",
    "# criterion = torch.nn.CrossEntropyLoss()\n",
    "# optimizer = optim.Adam(model.parameters(), lr=0.01)"
   ]
  },
  {
   "cell_type": "code",
   "execution_count": 28,
   "metadata": {},
   "outputs": [],
   "source": [
    "# num_epochs = 10\n",
    "# for epoch in range(num_epochs):\n",
    "#     model.train()\n",
    "#     running_loss = 0.0\n",
    "    \n",
    "#     for images, labels in train_loader:\n",
    "#         images, labels = images.to(device), labels.to(device)\n",
    "        \n",
    "#         optimizer.zero_grad()\n",
    "#         outputs = model(images)\n",
    "#         loss = criterion(outputs, labels)\n",
    "#         loss.backward()\n",
    "#         optimizer.step()\n",
    "        \n",
    "#         running_loss += loss.item()\n",
    "    \n",
    "#     print(f\"Epoch {epoch+1}, Loss: {running_loss/len(train_loader)}\")"
   ]
  },
  {
   "cell_type": "code",
   "execution_count": 29,
   "metadata": {},
   "outputs": [],
   "source": [
    "model = model.eval().to(device)"
   ]
  },
  {
   "cell_type": "code",
   "execution_count": 30,
   "metadata": {},
   "outputs": [],
   "source": [
    "# correct = 0\n",
    "# total = 0\n",
    "# with torch.no_grad():\n",
    "#     for images, labels in test_loader_id:\n",
    "#         images, labels = images.to(device), labels.to(device)\n",
    "#         outputs = model(images)\n",
    "#         _, predicted = torch.max(outputs.data, 1)\n",
    "#         total += labels.size(0)\n",
    "#         correct += (predicted == labels).sum().item()\n",
    "\n",
    "# accuracy = 100 * correct / total\n",
    "# print(f'Accuracy of the model on the test images: {accuracy}%')"
   ]
  },
  {
   "cell_type": "code",
   "execution_count": 31,
   "metadata": {},
   "outputs": [
    {
     "data": {
      "text/plain": [
       "<pytorch_ood.detector.knn.KNN at 0x7fba1bdac890>"
      ]
     },
     "execution_count": 31,
     "metadata": {},
     "output_type": "execute_result"
    }
   ],
   "source": [
    "# Stage 2: Create and Fit OpenMax\n",
    "\n",
    "# detector = MaxSoftmax(model)\n",
    "detector = KNN(model)\n",
    "# detector = OpenMax(model, tailsize=25, alpha=5, euclid_weight=0.5)\n",
    "# detector = MCD(model, mode=\"mean\")\n",
    "# detector = ODIN(model)\n",
    "# detector = Mahalanobis(model.features)\n",
    "# detector = EnergyBased(model)\n",
    "# detector = Entropy(model)\n",
    "# detector = MaxLogit(model)\n",
    "# detector = KLMatching(model)\n",
    "# detector = ViM(model.features, d=10, w=model.fc.weight, b=model.fc.bias)\n",
    "\n",
    "detector.fit(train_loader, device=device)"
   ]
  },
  {
   "cell_type": "code",
   "execution_count": 32,
   "metadata": {},
   "outputs": [],
   "source": [
    "\n",
    "directory_list = [\n",
    "    'data/benchmark_imglist/cifar10/test_cifar10.txt',\n",
    "    'data/benchmark_imglist/mnist/test_mnist.txt',\n",
    "    'data/benchmark_imglist/cifar100/test_places365.txt',\n",
    "    'data/benchmark_imglist/cifar100/test_svhn.txt',\n",
    "    'data/benchmark_imglist/cifar100/test_texture.txt',\n",
    "    'data/benchmark_imglist/cifar100/test_tin.txt'\n",
    "]\n",
    "\n",
    "metrics_list = []\n",
    "\n",
    "for data_dir in directory_list:\n",
    "    dataset_out_test = CustomDataset(txt_path=data_dir,\n",
    "                                    img_dir=img_dir,\n",
    "                                    transform=trans_cifar100,\n",
    "                                    target_transform=ToUnknown())\n",
    "\n",
    "    test_loader = DataLoader(dataset_in_test+dataset_out_test, batch_size=128)\n",
    "    \n",
    "    # Stage 3: Evaluate Detectors\n",
    "    metrics = OODMetrics()\n",
    "\n",
    "    for x, y in test_loader:\n",
    "        metrics.update(detector(x.to(device)), y)\n",
    "\n",
    "    metrics_list.append(metrics.compute())"
   ]
  },
  {
   "cell_type": "code",
   "execution_count": 33,
   "metadata": {},
   "outputs": [
    {
     "name": "stdout",
     "output_type": "stream",
     "text": [
      "0.71527,0.67423,0.70965,0.83286,0.79731,0.78375,"
     ]
    }
   ],
   "source": [
    "for metric in metrics_list:\n",
    "    print(\"%.5f\" % metric['AUROC'], end=\",\")"
   ]
  }
 ],
 "metadata": {
  "kernelspec": {
   "display_name": "Python 3 (ipykernel)",
   "language": "python",
   "name": "python3"
  },
  "language_info": {
   "codemirror_mode": {
    "name": "ipython",
    "version": 3
   },
   "file_extension": ".py",
   "mimetype": "text/x-python",
   "name": "python",
   "nbconvert_exporter": "python",
   "pygments_lexer": "ipython3",
   "version": "3.11.8"
  }
 },
 "nbformat": 4,
 "nbformat_minor": 2
}
